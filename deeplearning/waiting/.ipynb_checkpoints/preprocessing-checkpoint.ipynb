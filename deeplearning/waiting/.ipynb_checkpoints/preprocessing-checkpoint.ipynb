{
 "cells": [
  {
   "cell_type": "code",
   "execution_count": 1,
   "metadata": {},
   "outputs": [],
   "source": [
    "import pandas as pd\n",
    "origin_data = pd.read_csv(\"NLP_train.csv\")\n",
    "\n",
    "# origin_data.head()\n",
    "\n",
    "origin_data.drop(columns = \"Unnamed: 0\", inplace = True)\n",
    "#origin_data.dropna(subset=[\"맛\", \"서비스\", \"청결\"], how='all', inplace=True)"
   ]
  },
  {
   "cell_type": "code",
   "execution_count": 2,
   "metadata": {},
   "outputs": [
    {
     "data": {
      "text/html": [
       "<div>\n",
       "<style scoped>\n",
       "    .dataframe tbody tr th:only-of-type {\n",
       "        vertical-align: middle;\n",
       "    }\n",
       "\n",
       "    .dataframe tbody tr th {\n",
       "        vertical-align: top;\n",
       "    }\n",
       "\n",
       "    .dataframe thead th {\n",
       "        text-align: right;\n",
       "    }\n",
       "</style>\n",
       "<table border=\"1\" class=\"dataframe\">\n",
       "  <thead>\n",
       "    <tr style=\"text-align: right;\">\n",
       "      <th></th>\n",
       "      <th>reviews</th>\n",
       "      <th>서비스</th>\n",
       "      <th>위생</th>\n",
       "      <th>가성비</th>\n",
       "      <th>웨이팅</th>\n",
       "    </tr>\n",
       "  </thead>\n",
       "  <tbody>\n",
       "    <tr>\n",
       "      <th>0</th>\n",
       "      <td>뼈없는 닭갈비, 쟁반막국수, 치즈볶음밥을 먹어봤습니다. 닭갈비는 무난무난한 평범한 ...</td>\n",
       "      <td>1</td>\n",
       "      <td>2</td>\n",
       "      <td>2</td>\n",
       "      <td>2</td>\n",
       "    </tr>\n",
       "    <tr>\n",
       "      <th>1</th>\n",
       "      <td>SIKSINER 꼬마식신입니다. \\n 삼척에 있는 마마티라에 다녀왔는데요 . 진짜 ...</td>\n",
       "      <td>2</td>\n",
       "      <td>2</td>\n",
       "      <td>2</td>\n",
       "      <td>1</td>\n",
       "    </tr>\n",
       "    <tr>\n",
       "      <th>2</th>\n",
       "      <td>겨울에만 먹을 수 있는 알이 톡톡터지는 튼실한 알도루묵을 정라횟집에선 사계절 즐길 ...</td>\n",
       "      <td>2</td>\n",
       "      <td>2</td>\n",
       "      <td>2</td>\n",
       "      <td>2</td>\n",
       "    </tr>\n",
       "    <tr>\n",
       "      <th>3</th>\n",
       "      <td>소문듣고 갔는데...지저분하고 소문보다 못하네요...</td>\n",
       "      <td>2</td>\n",
       "      <td>0</td>\n",
       "      <td>2</td>\n",
       "      <td>2</td>\n",
       "    </tr>\n",
       "    <tr>\n",
       "      <th>4</th>\n",
       "      <td>가족과 외식할 때마다 가는 맛집인데 진짜 맛있어용 ㅠㅠ 고기도 완전 선홍빛이고 진정...</td>\n",
       "      <td>2</td>\n",
       "      <td>2</td>\n",
       "      <td>2</td>\n",
       "      <td>2</td>\n",
       "    </tr>\n",
       "  </tbody>\n",
       "</table>\n",
       "</div>"
      ],
      "text/plain": [
       "                                             reviews  서비스  위생  가성비  웨이팅\n",
       "0  뼈없는 닭갈비, 쟁반막국수, 치즈볶음밥을 먹어봤습니다. 닭갈비는 무난무난한 평범한 ...    1   2    2    2\n",
       "1  SIKSINER 꼬마식신입니다. \\n 삼척에 있는 마마티라에 다녀왔는데요 . 진짜 ...    2   2    2    1\n",
       "2  겨울에만 먹을 수 있는 알이 톡톡터지는 튼실한 알도루묵을 정라횟집에선 사계절 즐길 ...    2   2    2    2\n",
       "3                      소문듣고 갔는데...지저분하고 소문보다 못하네요...    2   0    2    2\n",
       "4  가족과 외식할 때마다 가는 맛집인데 진짜 맛있어용 ㅠㅠ 고기도 완전 선홍빛이고 진정...    2   2    2    2"
      ]
     },
     "execution_count": 2,
     "metadata": {},
     "output_type": "execute_result"
    }
   ],
   "source": [
    "origin_data.head()"
   ]
  },
  {
   "cell_type": "code",
   "execution_count": 3,
   "metadata": {},
   "outputs": [
    {
     "name": "stdout",
     "output_type": "stream",
     "text": [
      "(16669, 2) (4168, 2)\n"
     ]
    }
   ],
   "source": [
    "df = origin_data.copy()\n",
    "\n",
    "df = df[['reviews', '웨이팅']]\n",
    "\n",
    "from sklearn.model_selection import train_test_split\n",
    "df_train, df_test = train_test_split(df, test_size=0.2, random_state=0)\n",
    "print(df_train.shape, df_test.shape)"
   ]
  },
  {
   "cell_type": "code",
   "execution_count": 4,
   "metadata": {},
   "outputs": [],
   "source": [
    "df_train.to_csv('train.tsv', sep='\\t', index=False, header=False)"
   ]
  },
  {
   "cell_type": "code",
   "execution_count": 5,
   "metadata": {},
   "outputs": [],
   "source": [
    "df_test.to_csv('test.tsv', sep='\\t', index=False, header=False)"
   ]
  }
 ],
 "metadata": {
  "kernelspec": {
   "display_name": "Python 3",
   "language": "python",
   "name": "python3"
  },
  "language_info": {
   "codemirror_mode": {
    "name": "ipython",
    "version": 3
   },
   "file_extension": ".py",
   "mimetype": "text/x-python",
   "name": "python",
   "nbconvert_exporter": "python",
   "pygments_lexer": "ipython3",
   "version": "3.5.2"
  }
 },
 "nbformat": 4,
 "nbformat_minor": 2
}
