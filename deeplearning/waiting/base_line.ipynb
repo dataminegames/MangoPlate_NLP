{
 "cells": [
  {
   "cell_type": "code",
   "execution_count": 1,
   "metadata": {},
   "outputs": [
    {
     "name": "stdout",
     "output_type": "stream",
     "text": [
      "train length : 2054\n",
      "test length : 734\n",
      "valid length : 881\n"
     ]
    }
   ],
   "source": [
    "import itertools\n",
    "import time\n",
    "import numpy as np\n",
    "import pandas as pd\n",
    "import random\n",
    "from sklearn.model_selection import train_test_split\n",
    "import torch\n",
    "import torch.nn as nn\n",
    "from torchtext import data\n",
    "from torchtext import datasets\n",
    "from torchtext.data import Field\n",
    "from torchtext.data import BucketIterator\n",
    "import torch.optim as optim\n",
    "from konlpy.tag import *\n",
    "\n",
    "tagger = Komoran()\n",
    "tokenize = tagger.morphs\n",
    "\n",
    "torch.manual_seed(0)\n",
    "REVIEW = Field(sequential=True,\n",
    "               tokenize=tokenize,\n",
    "               use_vocab=True,\n",
    "               include_lengths=True,\n",
    "               batch_first=True)\n",
    "\n",
    "LABEL = Field(sequential=False, use_vocab=False)\n",
    "\n",
    "train, test = data.TabularDataset.splits(\n",
    "                                         path='./',\n",
    "                                         train='train.tsv',\n",
    "                                         test='test.tsv', format='tsv',\n",
    "                                         fields=[('review', REVIEW), ('label', LABEL)]\n",
    "\n",
    "                                         )\n",
    "\n",
    "\n",
    "\n",
    "train, valid = train.split(random_state=random.seed(0))\n",
    "print(\"train length : {}\".format(len(train)))\n",
    "print(\"test length : {}\".format(len(test)))\n",
    "print(\"valid length : {}\".format(len(valid)))\n",
    "\n",
    "\n",
    "REVIEW.build_vocab(train)"
   ]
  },
  {
   "cell_type": "code",
   "execution_count": 2,
   "metadata": {},
   "outputs": [],
   "source": [
    "device = torch.device(\"cuda:0\")\n",
    "\n",
    "batch_size = 32\n",
    "REVIEW.build_vocab(train)\n",
    "len(REVIEW.vocab)\n",
    "\n",
    "# Make iterator for splits\n",
    "train_iter, test_iter, val_iter = BucketIterator.splits(\n",
    "    (train, test, valid), batch_size=batch_size, device=device, # device -1 : cpu, device 0 : 남는 gpu\n",
    "    sort_key=lambda x: len(x.review), sort_within_batch=True, repeat=False) # x.TEXT 길이 기준으로 정렬\n",
    "\n",
    "# <center>3. Build Model"
   ]
  },
  {
   "cell_type": "code",
   "execution_count": 3,
   "metadata": {},
   "outputs": [],
   "source": [
    "class Classifier(nn.Module):\n",
    "    def __init__(self, vocab_size, embedding_dim, hidden_dim, output_dim, n_layers,\n",
    "                 bidirectional, dropout, pad_idx):\n",
    "\n",
    "        super().__init__()\n",
    "\n",
    "        self.embedding = nn.Embedding(\n",
    "            vocab_size, embedding_dim, padding_idx=pad_idx)\n",
    "\n",
    "        self.rnn = nn.LSTM(embedding_dim,\n",
    "                           hidden_dim,\n",
    "                           num_layers=n_layers,\n",
    "                           bidirectional=bidirectional,\n",
    "                           batch_first=True,\n",
    "                           dropout=dropout)\n",
    "\n",
    "        self.fc = nn.Linear(hidden_dim * 2, output_dim)\n",
    "\n",
    "        self.dropout = nn.Dropout(dropout)\n",
    "\n",
    "    def forward(self, text, text_lengths):\n",
    "\n",
    "        embedded = self.dropout(self.embedding(text))\n",
    "\n",
    "        packed_embedded = nn.utils.rnn.pack_padded_sequence(\n",
    "            embedded, text_lengths, batch_first=True)\n",
    "\n",
    "        packed_output, (hidden, cell) = self.rnn(packed_embedded)\n",
    "\n",
    "        output, output_lengths = nn.utils.rnn.pad_packed_sequence(\n",
    "            packed_output)\n",
    "\n",
    "        hidden = self.dropout(\n",
    "            torch.cat((hidden[-2, :, :], hidden[-1, :, :]), dim=1))\n",
    "\n",
    "        return self.fc(hidden.squeeze(0))"
   ]
  },
  {
   "cell_type": "code",
   "execution_count": 4,
   "metadata": {},
   "outputs": [],
   "source": [
    "INPUT_DIM = len(REVIEW.vocab)\n",
    "EMBEDDING_DIM = 70\n",
    "HIDDEN_DIM = 128\n",
    "OUTPUT_DIM = 3\n",
    "N_LAYERS = 3\n",
    "BIDIRECTIONAL = True\n",
    "DROPOUT = 0.3\n",
    "\n",
    "PAD_IDX = REVIEW.vocab.stoi[REVIEW.pad_token]"
   ]
  },
  {
   "cell_type": "code",
   "execution_count": 5,
   "metadata": {},
   "outputs": [],
   "source": [
    "model = Classifier(INPUT_DIM,\n",
    "                   EMBEDDING_DIM,\n",
    "                   HIDDEN_DIM,\n",
    "                   OUTPUT_DIM,\n",
    "                   N_LAYERS,\n",
    "                   BIDIRECTIONAL,\n",
    "                   DROPOUT,\n",
    "                   PAD_IDX)\n",
    "model.to(device)\n",
    "\n",
    "import numpy as np\n",
    "# numpy float 출력옵션 변경\n",
    "np.set_printoptions(formatter={'float_kind': lambda x: \"{0:0.3f}\".format(x)})\n",
    "\n",
    "STEP = 50\n",
    "\n",
    "optimizer = optim.Adam(model.parameters())\n",
    "loss_function = nn.CrossEntropyLoss()"
   ]
  },
  {
   "cell_type": "code",
   "execution_count": 6,
   "metadata": {},
   "outputs": [],
   "source": [
    "def categorical_accuracy(preds, y):\n",
    "    \"\"\"\n",
    "    Returns accuracy per batch\n",
    "    \"\"\"\n",
    "    max_preds = preds.argmax(dim=1, keepdim=True)\n",
    "\n",
    "    correct = max_preds.squeeze(1).eq(y)\n",
    "    return correct.sum() / torch.FloatTensor([y.shape[0]])\n",
    "\n",
    "best_valid_loss =9999999\n",
    "\n",
    "epoch_loss = 0\n",
    "epoch_acc = 0"
   ]
  },
  {
   "cell_type": "code",
   "execution_count": 7,
   "metadata": {
    "scrolled": true
   },
   "outputs": [
    {
     "name": "stdout",
     "output_type": "stream",
     "text": [
      "\n",
      "[1/50] val_loss: 0.5161\n",
      "\n",
      "save model\n",
      "\n",
      "\n",
      "[2/50] val_loss: 0.4677\n",
      "\n",
      "save model\n",
      "\n",
      "\n",
      "[3/50] val_loss: 1.5814\n",
      "\n",
      "\n",
      "[4/50] val_loss: 1.8845\n",
      "\n",
      "\n",
      "[5/50] val_loss: 1.6206\n",
      "\n",
      "\n",
      "[6/50] val_loss: 0.5201\n",
      "\n",
      "\n",
      "[7/50] val_loss: 0.6391\n",
      "\n",
      "\n",
      "[8/50] val_loss: 0.5547\n",
      "\n",
      "\n",
      "[9/50] val_loss: 0.8992\n",
      "\n",
      "\n",
      "[10/50] val_loss: 0.5846\n",
      "\n",
      "\n",
      "[11/50] val_loss: 1.1355\n",
      "\n",
      "\n",
      "[12/50] val_loss: 0.4733\n",
      "\n",
      "\n",
      "[13/50] val_loss: 0.5856\n",
      "\n",
      "\n",
      "[14/50] val_loss: 0.4696\n",
      "\n",
      "\n",
      "[15/50] val_loss: 0.4695\n",
      "\n",
      "\n",
      "[16/50] val_loss: 0.8724\n",
      "\n",
      "\n",
      "[17/50] val_loss: 1.4379\n",
      "\n",
      "\n",
      "[18/50] val_loss: 0.4929\n",
      "\n",
      "\n",
      "[19/50] val_loss: 0.6057\n",
      "\n",
      "\n",
      "[20/50] val_loss: 0.5766\n",
      "\n",
      "\n",
      "[21/50] val_loss: 0.5145\n",
      "\n",
      "\n",
      "[22/50] val_loss: 0.7754\n",
      "\n",
      "\n",
      "[23/50] val_loss: 0.6759\n",
      "\n",
      "\n",
      "[24/50] val_loss: 0.5188\n",
      "\n",
      "\n",
      "[25/50] val_loss: 0.5193\n",
      "\n",
      "\n",
      "[26/50] val_loss: 0.5793\n",
      "\n",
      "\n",
      "[27/50] val_loss: 0.6460\n",
      "\n",
      "\n",
      "[28/50] val_loss: 0.6033\n",
      "\n"
     ]
    },
    {
     "ename": "KeyboardInterrupt",
     "evalue": "",
     "output_type": "error",
     "traceback": [
      "\u001b[0;31m---------------------------------------------------------------------------\u001b[0m",
      "\u001b[0;31mKeyboardInterrupt\u001b[0m                         Traceback (most recent call last)",
      "\u001b[0;32m<ipython-input-7-f3c7f831fddb>\u001b[0m in \u001b[0;36m<module>\u001b[0;34m\u001b[0m\n\u001b[1;32m     15\u001b[0m         \u001b[0mlosses\u001b[0m\u001b[0;34m.\u001b[0m\u001b[0mappend\u001b[0m\u001b[0;34m(\u001b[0m\u001b[0mloss\u001b[0m\u001b[0;34m.\u001b[0m\u001b[0mitem\u001b[0m\u001b[0;34m(\u001b[0m\u001b[0;34m)\u001b[0m\u001b[0;34m)\u001b[0m\u001b[0;34m\u001b[0m\u001b[0m\n\u001b[1;32m     16\u001b[0m \u001b[0;34m\u001b[0m\u001b[0m\n\u001b[0;32m---> 17\u001b[0;31m         \u001b[0mloss\u001b[0m\u001b[0;34m.\u001b[0m\u001b[0mbackward\u001b[0m\u001b[0;34m(\u001b[0m\u001b[0;34m)\u001b[0m\u001b[0;34m\u001b[0m\u001b[0m\n\u001b[0m\u001b[1;32m     18\u001b[0m         \u001b[0moptimizer\u001b[0m\u001b[0;34m.\u001b[0m\u001b[0mstep\u001b[0m\u001b[0;34m(\u001b[0m\u001b[0;34m)\u001b[0m\u001b[0;34m\u001b[0m\u001b[0m\n\u001b[1;32m     19\u001b[0m     \u001b[0;32mwith\u001b[0m \u001b[0mtorch\u001b[0m\u001b[0;34m.\u001b[0m\u001b[0mno_grad\u001b[0m\u001b[0;34m(\u001b[0m\u001b[0;34m)\u001b[0m\u001b[0;34m:\u001b[0m\u001b[0;34m\u001b[0m\u001b[0m\n",
      "\u001b[0;32m~/.local/lib/python3.5/site-packages/torch/tensor.py\u001b[0m in \u001b[0;36mbackward\u001b[0;34m(self, gradient, retain_graph, create_graph)\u001b[0m\n\u001b[1;32m    105\u001b[0m                 \u001b[0mproducts\u001b[0m\u001b[0;34m.\u001b[0m \u001b[0mDefaults\u001b[0m \u001b[0mto\u001b[0m\u001b[0;31m \u001b[0m\u001b[0;31m`\u001b[0m\u001b[0;31m`\u001b[0m\u001b[0;32mFalse\u001b[0m\u001b[0;31m`\u001b[0m\u001b[0;31m`\u001b[0m\u001b[0;34m.\u001b[0m\u001b[0;34m\u001b[0m\u001b[0m\n\u001b[1;32m    106\u001b[0m         \"\"\"\n\u001b[0;32m--> 107\u001b[0;31m         \u001b[0mtorch\u001b[0m\u001b[0;34m.\u001b[0m\u001b[0mautograd\u001b[0m\u001b[0;34m.\u001b[0m\u001b[0mbackward\u001b[0m\u001b[0;34m(\u001b[0m\u001b[0mself\u001b[0m\u001b[0;34m,\u001b[0m \u001b[0mgradient\u001b[0m\u001b[0;34m,\u001b[0m \u001b[0mretain_graph\u001b[0m\u001b[0;34m,\u001b[0m \u001b[0mcreate_graph\u001b[0m\u001b[0;34m)\u001b[0m\u001b[0;34m\u001b[0m\u001b[0m\n\u001b[0m\u001b[1;32m    108\u001b[0m \u001b[0;34m\u001b[0m\u001b[0m\n\u001b[1;32m    109\u001b[0m     \u001b[0;32mdef\u001b[0m \u001b[0mregister_hook\u001b[0m\u001b[0;34m(\u001b[0m\u001b[0mself\u001b[0m\u001b[0;34m,\u001b[0m \u001b[0mhook\u001b[0m\u001b[0;34m)\u001b[0m\u001b[0;34m:\u001b[0m\u001b[0;34m\u001b[0m\u001b[0m\n",
      "\u001b[0;32m~/.local/lib/python3.5/site-packages/torch/autograd/__init__.py\u001b[0m in \u001b[0;36mbackward\u001b[0;34m(tensors, grad_tensors, retain_graph, create_graph, grad_variables)\u001b[0m\n\u001b[1;32m     91\u001b[0m     Variable._execution_engine.run_backward(\n\u001b[1;32m     92\u001b[0m         \u001b[0mtensors\u001b[0m\u001b[0;34m,\u001b[0m \u001b[0mgrad_tensors\u001b[0m\u001b[0;34m,\u001b[0m \u001b[0mretain_graph\u001b[0m\u001b[0;34m,\u001b[0m \u001b[0mcreate_graph\u001b[0m\u001b[0;34m,\u001b[0m\u001b[0;34m\u001b[0m\u001b[0m\n\u001b[0;32m---> 93\u001b[0;31m         allow_unreachable=True)  # allow_unreachable flag\n\u001b[0m\u001b[1;32m     94\u001b[0m \u001b[0;34m\u001b[0m\u001b[0m\n\u001b[1;32m     95\u001b[0m \u001b[0;34m\u001b[0m\u001b[0m\n",
      "\u001b[0;31mKeyboardInterrupt\u001b[0m: "
     ]
    }
   ],
   "source": [
    "model.train()\n",
    "for step in range(STEP):\n",
    "    losses=[]\n",
    "    for i, batch in enumerate(train_iter):\n",
    "        model.train()\n",
    "        inputs, lengths = batch.review\n",
    "        targets = batch.label   \n",
    "        model.zero_grad()\n",
    "\n",
    "        preds = model(inputs, lengths).squeeze(1)\n",
    "\n",
    "\n",
    "        loss = loss_function(preds, targets.long()) \n",
    "\n",
    "        losses.append(loss.item())\n",
    "\n",
    "        loss.backward()\n",
    "        optimizer.step()\n",
    "    with torch.no_grad():\n",
    "\n",
    "        model.eval()\n",
    "        val_losses=[]\n",
    "        val_accu = []\n",
    "        for i, batch in enumerate(val_iter):\n",
    "            inputs, lengths = batch.review\n",
    "            targets = batch.label\n",
    "            preds = model(inputs, lengths).squeeze(1)\n",
    "\n",
    "\n",
    "\n",
    "            val_loss = loss_function(preds, targets.long())\n",
    "\n",
    "            val_losses.append(val_loss.item())\n",
    "            optimizer.step()\n",
    "        print()\n",
    "        string = '[{}/{}] val_loss: {:.4f}'.format(step+1, STEP, np.mean(val_losses))\n",
    "        print(string)\n",
    "\n",
    "        print()\n",
    "\n",
    "        if np.mean(val_losses) < best_valid_loss:\n",
    "            best_valid_loss = np.mean(val_losses)\n",
    "            print(\"save model\")\n",
    "            print()\n",
    "\n",
    "            torch.save(model.state_dict(), 'model_base.pt')"
   ]
  },
  {
   "cell_type": "code",
   "execution_count": 8,
   "metadata": {},
   "outputs": [],
   "source": [
    "model.load_state_dict(torch.load('model_base.pt'),strict=False)\n",
    "\n",
    "import torch.nn.functional as F"
   ]
  },
  {
   "cell_type": "code",
   "execution_count": 9,
   "metadata": {},
   "outputs": [
    {
     "name": "stdout",
     "output_type": "stream",
     "text": [
      "Accuracy :  0.7901907356948229\n",
      "loss :  0.6094184919543888\n"
     ]
    },
    {
     "name": "stderr",
     "output_type": "stream",
     "text": [
      "/home/gpu/.local/lib/python3.5/site-packages/ipykernel_launcher.py:41: FutureWarning: from_csv is deprecated. Please use read_csv(...) instead. Note that some of the default arguments are different, so please refer to the documentation for from_csv when changing your function calls\n"
     ]
    }
   ],
   "source": [
    "y_hat = []\n",
    "y_real = []\n",
    "\n",
    "num_equal=0\n",
    "\n",
    "with torch.no_grad():\n",
    "    model.eval()\n",
    "    num_equal = 0\n",
    "    val_loss = 0\n",
    "    for i, batch in enumerate(test_iter):\n",
    "\n",
    "        inputs, lengths = batch.review\n",
    "        targets = batch.label\n",
    "        \n",
    "        if 0 in lengths:\n",
    "            idxes = torch.arange(inputs.size(0))\n",
    "            if USE_CUDA:\n",
    "                idxes = idxes.cuda()\n",
    "            mask = idxes[lengths.ne(0)].long()\n",
    "\n",
    "            inputs = inputs.index_select(0, mask)\n",
    "            lengths = lengths.masked_select(lengths.ne(0))\n",
    "            targets = targets.index_select(0, mask)\n",
    "\n",
    "\n",
    "        preds = model(inputs, lengths)\n",
    "        loss = loss_function(preds, targets) \n",
    "\n",
    "\n",
    "        acc = categorical_accuracy(preds, targets)\n",
    "\n",
    "        max_preds = preds.argmax(dim = 1, keepdim = True).squeeze(0) # get the index of the max probability\n",
    "        correct = max_preds.squeeze(1).eq(targets) # 같은것만 찾는 코드\n",
    "\n",
    "        max_preds = max_preds.squeeze()\n",
    "        y_hat.append(max_preds.tolist())\n",
    "        y_real.append(targets.tolist())\n",
    "        num_equal += int(torch.eq(max_preds, targets).sum())\n",
    "        val_loss += loss.item()\n",
    "        \n",
    "print(\"Accuracy : \" , num_equal / len(pd.DataFrame.from_csv('test.tsv', sep='\\t', header=None)))\n",
    "print(\"loss : \", val_loss/len(test_iter))\n",
    "\n",
    "\n",
    "y_hat_flat = list(itertools.chain(*y_hat))\n",
    "y_real_flat = list(itertools.chain(*y_real))"
   ]
  },
  {
   "cell_type": "code",
   "execution_count": 10,
   "metadata": {},
   "outputs": [
    {
     "name": "stdout",
     "output_type": "stream",
     "text": [
      "[[  1 154]\n",
      " [  0 579]]\n",
      "               precision    recall  f1-score   support\n",
      "\n",
      "      class 1       1.00      0.01      0.01       155\n",
      "class missing       0.79      1.00      0.88       579\n",
      "\n",
      "    micro avg       0.79      0.79      0.79       734\n",
      "    macro avg       0.89      0.50      0.45       734\n",
      " weighted avg       0.83      0.79      0.70       734\n",
      "\n"
     ]
    }
   ],
   "source": [
    "from sklearn.metrics import *\n",
    "print(confusion_matrix(y_real_flat,y_hat_flat))\n",
    "\n",
    "print(classification_report(y_real_flat, y_hat_flat, target_names=['class 1','class missing' ]))"
   ]
  },
  {
   "cell_type": "code",
   "execution_count": 11,
   "metadata": {},
   "outputs": [],
   "source": [
    "result_dic = classification_report(y_real_flat, y_hat_flat, target_names=['class 1','class missing' ], output_dict=True)"
   ]
  },
  {
   "cell_type": "code",
   "execution_count": 12,
   "metadata": {},
   "outputs": [
    {
     "data": {
      "text/plain": [
       "<bound method Module.parameters of Classifier(\n",
       "  (embedding): Embedding(9218, 70, padding_idx=1)\n",
       "  (rnn): LSTM(70, 128, num_layers=3, batch_first=True, dropout=0.3, bidirectional=True)\n",
       "  (fc): Linear(in_features=256, out_features=3, bias=True)\n",
       "  (dropout): Dropout(p=0.3)\n",
       ")>"
      ]
     },
     "execution_count": 12,
     "metadata": {},
     "output_type": "execute_result"
    }
   ],
   "source": [
    "model.parameters"
   ]
  },
  {
   "cell_type": "code",
   "execution_count": 13,
   "metadata": {},
   "outputs": [],
   "source": [
    "err = result_dic['class 1']['f1-score'] "
   ]
  },
  {
   "cell_type": "code",
   "execution_count": 14,
   "metadata": {},
   "outputs": [
    {
     "data": {
      "text/plain": [
       "0.012820512820512822"
      ]
     },
     "execution_count": 14,
     "metadata": {},
     "output_type": "execute_result"
    }
   ],
   "source": [
    "err"
   ]
  },
  {
   "cell_type": "code",
   "execution_count": 15,
   "metadata": {},
   "outputs": [],
   "source": [
    "import json\n",
    "with open('logging/{}_base.json'.format(err), 'w', encoding='utf-8') as make_file:\n",
    "    json.dump(result_dic, make_file, ensure_ascii=False, indent=\"\\t\")"
   ]
  },
  {
   "cell_type": "code",
   "execution_count": null,
   "metadata": {},
   "outputs": [],
   "source": []
  }
 ],
 "metadata": {
  "kernelspec": {
   "display_name": "Python 3",
   "language": "python",
   "name": "python3"
  },
  "language_info": {
   "codemirror_mode": {
    "name": "ipython",
    "version": 3
   },
   "file_extension": ".py",
   "mimetype": "text/x-python",
   "name": "python",
   "nbconvert_exporter": "python",
   "pygments_lexer": "ipython3",
   "version": "3.5.2"
  }
 },
 "nbformat": 4,
 "nbformat_minor": 2
}
